{
 "metadata": {
  "language_info": {
   "codemirror_mode": {
    "name": "ipython",
    "version": 3
   },
   "file_extension": ".py",
   "mimetype": "text/x-python",
   "name": "python",
   "nbconvert_exporter": "python",
   "pygments_lexer": "ipython3",
   "version": "3.6.13"
  },
  "orig_nbformat": 2,
  "kernelspec": {
   "name": "python3",
   "display_name": "Python 3.6.13 64-bit ('PythonAdv': conda)",
   "metadata": {
    "interpreter": {
     "hash": "d6d1acd81953b03bcf8e5d296cc3c28990ea354090956f78670ae51fff7474ba"
    }
   }
  }
 },
 "nbformat": 4,
 "nbformat_minor": 2,
 "cells": [
  {
   "source": [
    "# Random Forest\n"
   ],
   "cell_type": "markdown",
   "metadata": {}
  },
  {
   "cell_type": "code",
   "execution_count": 6,
   "metadata": {},
   "outputs": [],
   "source": [
    "# Retrieve variables from other jupyter notebook\n",
    "%store -r X_train_scaled\n",
    "%store -r X_test_scaled\n",
    "%store -r y_train\n",
    "%store -r y_test\n",
    "%store -r X_headings"
   ]
  },
  {
   "cell_type": "code",
   "execution_count": 2,
   "metadata": {},
   "outputs": [],
   "source": [
    "# Dependencies\n",
    "from sklearn.ensemble import RandomForestClassifier"
   ]
  },
  {
   "cell_type": "code",
   "execution_count": 26,
   "metadata": {},
   "outputs": [
    {
     "output_type": "execute_result",
     "data": {
      "text/plain": [
       "0.902745995423341"
      ]
     },
     "metadata": {},
     "execution_count": 26
    }
   ],
   "source": [
    "# Create a random forest classifier\n",
    "rf = RandomForestClassifier(n_estimators=360)\n",
    "rf = rf.fit(X_train_scaled, y_train)\n",
    "rf.score(X_test_scaled, y_test)"
   ]
  },
  {
   "source": [
    "# Save the model"
   ],
   "cell_type": "markdown",
   "metadata": {}
  },
  {
   "cell_type": "code",
   "execution_count": 38,
   "metadata": {},
   "outputs": [
    {
     "output_type": "execute_result",
     "data": {
      "text/plain": [
       "['Models/model4.sav']"
      ]
     },
     "metadata": {},
     "execution_count": 38
    }
   ],
   "source": [
    "# Save the svc model \n",
    "import joblib\n",
    "filename = 'Models/model4.sav'\n",
    "\n",
    "# Print file name\n",
    "joblib.dump(rf, filename)"
   ]
  },
  {
   "cell_type": "code",
   "execution_count": 39,
   "metadata": {},
   "outputs": [
    {
     "output_type": "stream",
     "name": "stdout",
     "text": [
      "0.902745995423341\n"
     ]
    }
   ],
   "source": [
    "# Test loading model back in to ensure it saved properly\n",
    "loaded_model = joblib.load('Models/model4.sav')\n",
    "result = loaded_model.score(X_test_scaled, y_test)\n",
    "print(result)"
   ]
  },
  {
   "source": [
    "# Additional checks on feature importances (X variables)"
   ],
   "cell_type": "markdown",
   "metadata": {}
  },
  {
   "cell_type": "code",
   "execution_count": 5,
   "metadata": {},
   "outputs": [
    {
     "output_type": "execute_result",
     "data": {
      "text/plain": [
       "array([0.11413844, 0.08728435, 0.11547584, 0.04096586, 0.02865439,\n",
       "       0.02745377, 0.01798053, 0.02918492, 0.02686682, 0.02918095,\n",
       "       0.01699822, 0.02611016, 0.03894852, 0.03914302, 0.0392095 ,\n",
       "       0.06595335, 0.01801904, 0.01706441, 0.02532828, 0.01652665,\n",
       "       0.06869909, 0.00524375, 0.01425099, 0.01267875, 0.01277466,\n",
       "       0.02145617, 0.01581731, 0.01453263, 0.0140596 ])"
      ]
     },
     "metadata": {},
     "execution_count": 5
    }
   ],
   "source": [
    "# Random Forests in sklearn will automatically calculate feature importance\n",
    "importances = rf.feature_importances_\n",
    "importances"
   ]
  },
  {
   "cell_type": "code",
   "execution_count": 7,
   "metadata": {},
   "outputs": [
    {
     "output_type": "execute_result",
     "data": {
      "text/plain": [
       "Index(['koi_disposition', 'koi_fpflag_nt', 'koi_fpflag_ss', 'koi_fpflag_co',\n",
       "       'koi_fpflag_ec', 'koi_period', 'koi_period_err2', 'koi_time0bk',\n",
       "       'koi_time0bk_err1', 'koi_time0bk_err2', 'koi_impact', 'koi_impact_err1',\n",
       "       'koi_duration', 'koi_duration_err1', 'koi_duration_err2', 'koi_depth',\n",
       "       'koi_prad', 'koi_teq', 'koi_insol', 'koi_insol_err1', 'koi_insol_err2',\n",
       "       'koi_model_snr', 'koi_tce_plnt_num', 'koi_steff', 'koi_slogg',\n",
       "       'koi_srad', 'koi_srad_err1', 'ra', 'dec', 'koi_kepmag'],\n",
       "      dtype='object')"
      ]
     },
     "metadata": {},
     "execution_count": 7
    }
   ],
   "source": [
    "X_headings"
   ]
  },
  {
   "cell_type": "code",
   "execution_count": 8,
   "metadata": {},
   "outputs": [
    {
     "output_type": "execute_result",
     "data": {
      "text/plain": [
       "[(0.1154758399014978, 'koi_fpflag_ss'),\n",
       " (0.1141384446008471, 'koi_disposition'),\n",
       " (0.0872843517866187, 'koi_fpflag_nt'),\n",
       " (0.06869909251985493, 'koi_insol_err2'),\n",
       " (0.0659533535083459, 'koi_depth'),\n",
       " (0.04096585687399103, 'koi_fpflag_co'),\n",
       " (0.03920950446398375, 'koi_duration_err2'),\n",
       " (0.03914301685065063, 'koi_duration_err1'),\n",
       " (0.038948523246314794, 'koi_duration'),\n",
       " (0.029184922901271497, 'koi_time0bk'),\n",
       " (0.0291809480445089, 'koi_time0bk_err2'),\n",
       " (0.028654394243144088, 'koi_fpflag_ec'),\n",
       " (0.027453769114947714, 'koi_period'),\n",
       " (0.026866821012890226, 'koi_time0bk_err1'),\n",
       " (0.026110159857838156, 'koi_impact_err1'),\n",
       " (0.025328283343643933, 'koi_insol'),\n",
       " (0.021456166273230885, 'koi_srad'),\n",
       " (0.01801904475268319, 'koi_prad'),\n",
       " (0.017980534886672107, 'koi_period_err2'),\n",
       " (0.017064405343081287, 'koi_teq'),\n",
       " (0.01699822216558763, 'koi_impact'),\n",
       " (0.016526653535450922, 'koi_insol_err1'),\n",
       " (0.015817309930823913, 'koi_srad_err1'),\n",
       " (0.014532628504337279, 'ra'),\n",
       " (0.014250993714474278, 'koi_tce_plnt_num'),\n",
       " (0.014059601305865773, 'dec'),\n",
       " (0.012774661236791955, 'koi_slogg'),\n",
       " (0.01267874995541415, 'koi_steff'),\n",
       " (0.005243746125237706, 'koi_model_snr')]"
      ]
     },
     "metadata": {},
     "execution_count": 8
    }
   ],
   "source": [
    "# We can sort the features by their importance\n",
    "sorted(zip(rf.feature_importances_,X_headings), reverse=True)"
   ]
  }
 ]
}