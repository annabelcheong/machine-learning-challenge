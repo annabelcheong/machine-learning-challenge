{
 "metadata": {
  "language_info": {
   "codemirror_mode": {
    "name": "ipython",
    "version": 3
   },
   "file_extension": ".py",
   "mimetype": "text/x-python",
   "name": "python",
   "nbconvert_exporter": "python",
   "pygments_lexer": "ipython3",
   "version": "3.6.13"
  },
  "orig_nbformat": 2,
  "kernelspec": {
   "name": "python3",
   "display_name": "Python 3.6.13 64-bit ('PythonAdv': conda)",
   "metadata": {
    "interpreter": {
     "hash": "d6d1acd81953b03bcf8e5d296cc3c28990ea354090956f78670ae51fff7474ba"
    }
   }
  }
 },
 "nbformat": 4,
 "nbformat_minor": 2,
 "cells": [
  {
   "source": [
    "# Assignment Objective\n",
    "To help process this data, you will create machine learning models capable of classifying candidate exoplanets from the raw dataset."
   ],
   "cell_type": "markdown",
   "metadata": {}
  },
  {
   "source": [
    "# DATA CLEANUP (PREPROCESS DATA)\n",
    "\n",
    "## 1. Ensure data only contains rows which have data for an exoplanet. \n",
    "- Filter for only rows under column 'koi_pidisposition' = 'CANDIDATE'. \n",
    "## 2. Perform feature selection and remove unnecessary features.\n",
    "## 3. Use MinMaxScaler to scale the numerical data.\n",
    "## 4. Separate the data into training and testing data."
   ],
   "cell_type": "markdown",
   "metadata": {}
  },
  {
   "cell_type": "code",
   "execution_count": 1,
   "metadata": {},
   "outputs": [],
   "source": [
    "# Dependencies\n",
    "import pandas as pd"
   ]
  },
  {
   "cell_type": "code",
   "execution_count": 2,
   "metadata": {},
   "outputs": [
    {
     "output_type": "execute_result",
     "data": {
      "text/plain": [
       "      rowid     kepid kepoi_name   kepler_name koi_disposition  \\\n",
       "0         1  10797460  K00752.01  Kepler-227 b       CONFIRMED   \n",
       "1         2  10797460  K00752.02  Kepler-227 c       CONFIRMED   \n",
       "2         3  10811496  K00753.01           NaN  FALSE POSITIVE   \n",
       "3         4  10848459  K00754.01           NaN  FALSE POSITIVE   \n",
       "4         5  10854555  K00755.01  Kepler-664 b       CONFIRMED   \n",
       "...     ...       ...        ...           ...             ...   \n",
       "9559   9560  10031643  K07984.01           NaN  FALSE POSITIVE   \n",
       "9560   9561  10090151  K07985.01           NaN  FALSE POSITIVE   \n",
       "9561   9562  10128825  K07986.01           NaN       CANDIDATE   \n",
       "9562   9563  10147276  K07987.01           NaN  FALSE POSITIVE   \n",
       "9563   9564  10156110  K07989.01           NaN  FALSE POSITIVE   \n",
       "\n",
       "     koi_pdisposition  koi_score  koi_fpflag_nt  koi_fpflag_ss  koi_fpflag_co  \\\n",
       "0           CANDIDATE      1.000              0              0              0   \n",
       "1           CANDIDATE      0.969              0              0              0   \n",
       "2      FALSE POSITIVE      0.000              0              1              0   \n",
       "3      FALSE POSITIVE      0.000              0              1              0   \n",
       "4           CANDIDATE      1.000              0              0              0   \n",
       "...               ...        ...            ...            ...            ...   \n",
       "9559   FALSE POSITIVE      0.000              0              0              0   \n",
       "9560   FALSE POSITIVE      0.000              0              1              1   \n",
       "9561        CANDIDATE      0.497              0              0              0   \n",
       "9562   FALSE POSITIVE      0.021              0              0              1   \n",
       "9563   FALSE POSITIVE      0.000              0              0              1   \n",
       "\n",
       "      ...  koi_steff_err2  koi_slogg  koi_slogg_err1  koi_slogg_err2  \\\n",
       "0     ...           -81.0      4.467           0.064          -0.096   \n",
       "1     ...           -81.0      4.467           0.064          -0.096   \n",
       "2     ...          -176.0      4.544           0.044          -0.176   \n",
       "3     ...          -174.0      4.564           0.053          -0.168   \n",
       "4     ...          -211.0      4.438           0.070          -0.210   \n",
       "...   ...             ...        ...             ...             ...   \n",
       "9559  ...          -152.0      4.296           0.231          -0.189   \n",
       "9560  ...          -166.0      4.529           0.035          -0.196   \n",
       "9561  ...          -220.0      4.444           0.056          -0.224   \n",
       "9562  ...          -236.0      4.447           0.056          -0.224   \n",
       "9563  ...          -225.0      4.385           0.054          -0.216   \n",
       "\n",
       "      koi_srad  koi_srad_err1  koi_srad_err2         ra        dec  koi_kepmag  \n",
       "0        0.927          0.105         -0.061  291.93423  48.141651      15.347  \n",
       "1        0.927          0.105         -0.061  291.93423  48.141651      15.347  \n",
       "2        0.868          0.233         -0.078  297.00482  48.134129      15.436  \n",
       "3        0.791          0.201         -0.067  285.53461  48.285210      15.597  \n",
       "4        1.046          0.334         -0.133  288.75488  48.226200      15.509  \n",
       "...        ...            ...            ...        ...        ...         ...  \n",
       "9559     1.088          0.313         -0.228  298.74921  46.973351      14.478  \n",
       "9560     0.903          0.237         -0.079  297.18875  47.093819      14.082  \n",
       "9561     1.031          0.341         -0.114  286.50937  47.163219      14.757  \n",
       "9562     1.041          0.341         -0.114  294.16489  47.176281      15.385  \n",
       "9563     1.193          0.410         -0.137  297.00977  47.121021      14.826  \n",
       "\n",
       "[9564 rows x 50 columns]"
      ],
      "text/html": "<div>\n<style scoped>\n    .dataframe tbody tr th:only-of-type {\n        vertical-align: middle;\n    }\n\n    .dataframe tbody tr th {\n        vertical-align: top;\n    }\n\n    .dataframe thead th {\n        text-align: right;\n    }\n</style>\n<table border=\"1\" class=\"dataframe\">\n  <thead>\n    <tr style=\"text-align: right;\">\n      <th></th>\n      <th>rowid</th>\n      <th>kepid</th>\n      <th>kepoi_name</th>\n      <th>kepler_name</th>\n      <th>koi_disposition</th>\n      <th>koi_pdisposition</th>\n      <th>koi_score</th>\n      <th>koi_fpflag_nt</th>\n      <th>koi_fpflag_ss</th>\n      <th>koi_fpflag_co</th>\n      <th>...</th>\n      <th>koi_steff_err2</th>\n      <th>koi_slogg</th>\n      <th>koi_slogg_err1</th>\n      <th>koi_slogg_err2</th>\n      <th>koi_srad</th>\n      <th>koi_srad_err1</th>\n      <th>koi_srad_err2</th>\n      <th>ra</th>\n      <th>dec</th>\n      <th>koi_kepmag</th>\n    </tr>\n  </thead>\n  <tbody>\n    <tr>\n      <th>0</th>\n      <td>1</td>\n      <td>10797460</td>\n      <td>K00752.01</td>\n      <td>Kepler-227 b</td>\n      <td>CONFIRMED</td>\n      <td>CANDIDATE</td>\n      <td>1.000</td>\n      <td>0</td>\n      <td>0</td>\n      <td>0</td>\n      <td>...</td>\n      <td>-81.0</td>\n      <td>4.467</td>\n      <td>0.064</td>\n      <td>-0.096</td>\n      <td>0.927</td>\n      <td>0.105</td>\n      <td>-0.061</td>\n      <td>291.93423</td>\n      <td>48.141651</td>\n      <td>15.347</td>\n    </tr>\n    <tr>\n      <th>1</th>\n      <td>2</td>\n      <td>10797460</td>\n      <td>K00752.02</td>\n      <td>Kepler-227 c</td>\n      <td>CONFIRMED</td>\n      <td>CANDIDATE</td>\n      <td>0.969</td>\n      <td>0</td>\n      <td>0</td>\n      <td>0</td>\n      <td>...</td>\n      <td>-81.0</td>\n      <td>4.467</td>\n      <td>0.064</td>\n      <td>-0.096</td>\n      <td>0.927</td>\n      <td>0.105</td>\n      <td>-0.061</td>\n      <td>291.93423</td>\n      <td>48.141651</td>\n      <td>15.347</td>\n    </tr>\n    <tr>\n      <th>2</th>\n      <td>3</td>\n      <td>10811496</td>\n      <td>K00753.01</td>\n      <td>NaN</td>\n      <td>FALSE POSITIVE</td>\n      <td>FALSE POSITIVE</td>\n      <td>0.000</td>\n      <td>0</td>\n      <td>1</td>\n      <td>0</td>\n      <td>...</td>\n      <td>-176.0</td>\n      <td>4.544</td>\n      <td>0.044</td>\n      <td>-0.176</td>\n      <td>0.868</td>\n      <td>0.233</td>\n      <td>-0.078</td>\n      <td>297.00482</td>\n      <td>48.134129</td>\n      <td>15.436</td>\n    </tr>\n    <tr>\n      <th>3</th>\n      <td>4</td>\n      <td>10848459</td>\n      <td>K00754.01</td>\n      <td>NaN</td>\n      <td>FALSE POSITIVE</td>\n      <td>FALSE POSITIVE</td>\n      <td>0.000</td>\n      <td>0</td>\n      <td>1</td>\n      <td>0</td>\n      <td>...</td>\n      <td>-174.0</td>\n      <td>4.564</td>\n      <td>0.053</td>\n      <td>-0.168</td>\n      <td>0.791</td>\n      <td>0.201</td>\n      <td>-0.067</td>\n      <td>285.53461</td>\n      <td>48.285210</td>\n      <td>15.597</td>\n    </tr>\n    <tr>\n      <th>4</th>\n      <td>5</td>\n      <td>10854555</td>\n      <td>K00755.01</td>\n      <td>Kepler-664 b</td>\n      <td>CONFIRMED</td>\n      <td>CANDIDATE</td>\n      <td>1.000</td>\n      <td>0</td>\n      <td>0</td>\n      <td>0</td>\n      <td>...</td>\n      <td>-211.0</td>\n      <td>4.438</td>\n      <td>0.070</td>\n      <td>-0.210</td>\n      <td>1.046</td>\n      <td>0.334</td>\n      <td>-0.133</td>\n      <td>288.75488</td>\n      <td>48.226200</td>\n      <td>15.509</td>\n    </tr>\n    <tr>\n      <th>...</th>\n      <td>...</td>\n      <td>...</td>\n      <td>...</td>\n      <td>...</td>\n      <td>...</td>\n      <td>...</td>\n      <td>...</td>\n      <td>...</td>\n      <td>...</td>\n      <td>...</td>\n      <td>...</td>\n      <td>...</td>\n      <td>...</td>\n      <td>...</td>\n      <td>...</td>\n      <td>...</td>\n      <td>...</td>\n      <td>...</td>\n      <td>...</td>\n      <td>...</td>\n      <td>...</td>\n    </tr>\n    <tr>\n      <th>9559</th>\n      <td>9560</td>\n      <td>10031643</td>\n      <td>K07984.01</td>\n      <td>NaN</td>\n      <td>FALSE POSITIVE</td>\n      <td>FALSE POSITIVE</td>\n      <td>0.000</td>\n      <td>0</td>\n      <td>0</td>\n      <td>0</td>\n      <td>...</td>\n      <td>-152.0</td>\n      <td>4.296</td>\n      <td>0.231</td>\n      <td>-0.189</td>\n      <td>1.088</td>\n      <td>0.313</td>\n      <td>-0.228</td>\n      <td>298.74921</td>\n      <td>46.973351</td>\n      <td>14.478</td>\n    </tr>\n    <tr>\n      <th>9560</th>\n      <td>9561</td>\n      <td>10090151</td>\n      <td>K07985.01</td>\n      <td>NaN</td>\n      <td>FALSE POSITIVE</td>\n      <td>FALSE POSITIVE</td>\n      <td>0.000</td>\n      <td>0</td>\n      <td>1</td>\n      <td>1</td>\n      <td>...</td>\n      <td>-166.0</td>\n      <td>4.529</td>\n      <td>0.035</td>\n      <td>-0.196</td>\n      <td>0.903</td>\n      <td>0.237</td>\n      <td>-0.079</td>\n      <td>297.18875</td>\n      <td>47.093819</td>\n      <td>14.082</td>\n    </tr>\n    <tr>\n      <th>9561</th>\n      <td>9562</td>\n      <td>10128825</td>\n      <td>K07986.01</td>\n      <td>NaN</td>\n      <td>CANDIDATE</td>\n      <td>CANDIDATE</td>\n      <td>0.497</td>\n      <td>0</td>\n      <td>0</td>\n      <td>0</td>\n      <td>...</td>\n      <td>-220.0</td>\n      <td>4.444</td>\n      <td>0.056</td>\n      <td>-0.224</td>\n      <td>1.031</td>\n      <td>0.341</td>\n      <td>-0.114</td>\n      <td>286.50937</td>\n      <td>47.163219</td>\n      <td>14.757</td>\n    </tr>\n    <tr>\n      <th>9562</th>\n      <td>9563</td>\n      <td>10147276</td>\n      <td>K07987.01</td>\n      <td>NaN</td>\n      <td>FALSE POSITIVE</td>\n      <td>FALSE POSITIVE</td>\n      <td>0.021</td>\n      <td>0</td>\n      <td>0</td>\n      <td>1</td>\n      <td>...</td>\n      <td>-236.0</td>\n      <td>4.447</td>\n      <td>0.056</td>\n      <td>-0.224</td>\n      <td>1.041</td>\n      <td>0.341</td>\n      <td>-0.114</td>\n      <td>294.16489</td>\n      <td>47.176281</td>\n      <td>15.385</td>\n    </tr>\n    <tr>\n      <th>9563</th>\n      <td>9564</td>\n      <td>10156110</td>\n      <td>K07989.01</td>\n      <td>NaN</td>\n      <td>FALSE POSITIVE</td>\n      <td>FALSE POSITIVE</td>\n      <td>0.000</td>\n      <td>0</td>\n      <td>0</td>\n      <td>1</td>\n      <td>...</td>\n      <td>-225.0</td>\n      <td>4.385</td>\n      <td>0.054</td>\n      <td>-0.216</td>\n      <td>1.193</td>\n      <td>0.410</td>\n      <td>-0.137</td>\n      <td>297.00977</td>\n      <td>47.121021</td>\n      <td>14.826</td>\n    </tr>\n  </tbody>\n</table>\n<p>9564 rows × 50 columns</p>\n</div>"
     },
     "metadata": {},
     "execution_count": 2
    }
   ],
   "source": [
    "# Read in csv file as a pandas dataframe\n",
    "planets = pd.read_csv(\"Resources/cumulative.csv\")\n",
    "planets  ## Shape: 9564 rows x 50 columns"
   ]
  },
  {
   "source": [],
   "cell_type": "markdown",
   "metadata": {}
  },
  {
   "source": [
    "## 1. Ensure data only contains rows which have data for an exoplanet."
   ],
   "cell_type": "markdown",
   "metadata": {}
  },
  {
   "cell_type": "code",
   "execution_count": 3,
   "metadata": {},
   "outputs": [
    {
     "output_type": "execute_result",
     "data": {
      "text/plain": [
       "      rowid     kepid kepoi_name   kepler_name koi_disposition  \\\n",
       "0         1  10797460  K00752.01  Kepler-227 b       CONFIRMED   \n",
       "1         2  10797460  K00752.02  Kepler-227 c       CONFIRMED   \n",
       "4         5  10854555  K00755.01  Kepler-664 b       CONFIRMED   \n",
       "5         6  10872983  K00756.01  Kepler-228 d       CONFIRMED   \n",
       "6         7  10872983  K00756.02  Kepler-228 c       CONFIRMED   \n",
       "...     ...       ...        ...           ...             ...   \n",
       "9550   9551   8488381  K07888.01           NaN       CANDIDATE   \n",
       "9551   9552   8489260  K07889.01           NaN       CANDIDATE   \n",
       "9557   9558  11911561  K03875.01           NaN       CANDIDATE   \n",
       "9558   9559   8765560  K03891.01           NaN       CANDIDATE   \n",
       "9561   9562  10128825  K07986.01           NaN       CANDIDATE   \n",
       "\n",
       "     koi_pdisposition  koi_score  koi_fpflag_nt  koi_fpflag_ss  koi_fpflag_co  \\\n",
       "0           CANDIDATE      1.000              0              0              0   \n",
       "1           CANDIDATE      0.969              0              0              0   \n",
       "4           CANDIDATE      1.000              0              0              0   \n",
       "5           CANDIDATE      1.000              0              0              0   \n",
       "6           CANDIDATE      1.000              0              0              0   \n",
       "...               ...        ...            ...            ...            ...   \n",
       "9550        CANDIDATE      0.532              0              0              0   \n",
       "9551        CANDIDATE      0.386              0              0              0   \n",
       "9557        CANDIDATE      1.000              0              0              0   \n",
       "9558        CANDIDATE      1.000              0              0              0   \n",
       "9561        CANDIDATE      0.497              0              0              0   \n",
       "\n",
       "      ...  koi_steff_err2  koi_slogg  koi_slogg_err1  koi_slogg_err2  \\\n",
       "0     ...           -81.0      4.467           0.064          -0.096   \n",
       "1     ...           -81.0      4.467           0.064          -0.096   \n",
       "4     ...          -211.0      4.438           0.070          -0.210   \n",
       "5     ...          -232.0      4.486           0.054          -0.229   \n",
       "6     ...          -232.0      4.486           0.054          -0.229   \n",
       "...   ...             ...        ...             ...             ...   \n",
       "9550  ...          -201.0      4.456           0.056          -0.224   \n",
       "9551  ...          -183.0      4.529           0.036          -0.192   \n",
       "9557  ...          -181.0      4.027           0.434          -0.186   \n",
       "9558  ...          -159.0      3.597           0.968          -0.242   \n",
       "9561  ...          -220.0      4.444           0.056          -0.224   \n",
       "\n",
       "      koi_srad  koi_srad_err1  koi_srad_err2         ra        dec  koi_kepmag  \n",
       "0        0.927          0.105         -0.061  291.93423  48.141651      15.347  \n",
       "1        0.927          0.105         -0.061  291.93423  48.141651      15.347  \n",
       "4        1.046          0.334         -0.133  288.75488  48.226200      15.509  \n",
       "5        0.972          0.315         -0.105  296.28613  48.224670      15.714  \n",
       "6        0.972          0.315         -0.105  296.28613  48.224670      15.714  \n",
       "...        ...            ...            ...        ...        ...         ...  \n",
       "9550     1.011          0.329         -0.110  289.20331  44.505138      13.922  \n",
       "9551     0.903          0.251         -0.084  289.57452  44.519939      15.991  \n",
       "9557     1.514          0.426         -0.640  290.14914  50.239178      13.579  \n",
       "9558     2.780          1.089         -2.022  296.15601  44.920090      13.731  \n",
       "9561     1.031          0.341         -0.114  286.50937  47.163219      14.757  \n",
       "\n",
       "[4496 rows x 50 columns]"
      ],
      "text/html": "<div>\n<style scoped>\n    .dataframe tbody tr th:only-of-type {\n        vertical-align: middle;\n    }\n\n    .dataframe tbody tr th {\n        vertical-align: top;\n    }\n\n    .dataframe thead th {\n        text-align: right;\n    }\n</style>\n<table border=\"1\" class=\"dataframe\">\n  <thead>\n    <tr style=\"text-align: right;\">\n      <th></th>\n      <th>rowid</th>\n      <th>kepid</th>\n      <th>kepoi_name</th>\n      <th>kepler_name</th>\n      <th>koi_disposition</th>\n      <th>koi_pdisposition</th>\n      <th>koi_score</th>\n      <th>koi_fpflag_nt</th>\n      <th>koi_fpflag_ss</th>\n      <th>koi_fpflag_co</th>\n      <th>...</th>\n      <th>koi_steff_err2</th>\n      <th>koi_slogg</th>\n      <th>koi_slogg_err1</th>\n      <th>koi_slogg_err2</th>\n      <th>koi_srad</th>\n      <th>koi_srad_err1</th>\n      <th>koi_srad_err2</th>\n      <th>ra</th>\n      <th>dec</th>\n      <th>koi_kepmag</th>\n    </tr>\n  </thead>\n  <tbody>\n    <tr>\n      <th>0</th>\n      <td>1</td>\n      <td>10797460</td>\n      <td>K00752.01</td>\n      <td>Kepler-227 b</td>\n      <td>CONFIRMED</td>\n      <td>CANDIDATE</td>\n      <td>1.000</td>\n      <td>0</td>\n      <td>0</td>\n      <td>0</td>\n      <td>...</td>\n      <td>-81.0</td>\n      <td>4.467</td>\n      <td>0.064</td>\n      <td>-0.096</td>\n      <td>0.927</td>\n      <td>0.105</td>\n      <td>-0.061</td>\n      <td>291.93423</td>\n      <td>48.141651</td>\n      <td>15.347</td>\n    </tr>\n    <tr>\n      <th>1</th>\n      <td>2</td>\n      <td>10797460</td>\n      <td>K00752.02</td>\n      <td>Kepler-227 c</td>\n      <td>CONFIRMED</td>\n      <td>CANDIDATE</td>\n      <td>0.969</td>\n      <td>0</td>\n      <td>0</td>\n      <td>0</td>\n      <td>...</td>\n      <td>-81.0</td>\n      <td>4.467</td>\n      <td>0.064</td>\n      <td>-0.096</td>\n      <td>0.927</td>\n      <td>0.105</td>\n      <td>-0.061</td>\n      <td>291.93423</td>\n      <td>48.141651</td>\n      <td>15.347</td>\n    </tr>\n    <tr>\n      <th>4</th>\n      <td>5</td>\n      <td>10854555</td>\n      <td>K00755.01</td>\n      <td>Kepler-664 b</td>\n      <td>CONFIRMED</td>\n      <td>CANDIDATE</td>\n      <td>1.000</td>\n      <td>0</td>\n      <td>0</td>\n      <td>0</td>\n      <td>...</td>\n      <td>-211.0</td>\n      <td>4.438</td>\n      <td>0.070</td>\n      <td>-0.210</td>\n      <td>1.046</td>\n      <td>0.334</td>\n      <td>-0.133</td>\n      <td>288.75488</td>\n      <td>48.226200</td>\n      <td>15.509</td>\n    </tr>\n    <tr>\n      <th>5</th>\n      <td>6</td>\n      <td>10872983</td>\n      <td>K00756.01</td>\n      <td>Kepler-228 d</td>\n      <td>CONFIRMED</td>\n      <td>CANDIDATE</td>\n      <td>1.000</td>\n      <td>0</td>\n      <td>0</td>\n      <td>0</td>\n      <td>...</td>\n      <td>-232.0</td>\n      <td>4.486</td>\n      <td>0.054</td>\n      <td>-0.229</td>\n      <td>0.972</td>\n      <td>0.315</td>\n      <td>-0.105</td>\n      <td>296.28613</td>\n      <td>48.224670</td>\n      <td>15.714</td>\n    </tr>\n    <tr>\n      <th>6</th>\n      <td>7</td>\n      <td>10872983</td>\n      <td>K00756.02</td>\n      <td>Kepler-228 c</td>\n      <td>CONFIRMED</td>\n      <td>CANDIDATE</td>\n      <td>1.000</td>\n      <td>0</td>\n      <td>0</td>\n      <td>0</td>\n      <td>...</td>\n      <td>-232.0</td>\n      <td>4.486</td>\n      <td>0.054</td>\n      <td>-0.229</td>\n      <td>0.972</td>\n      <td>0.315</td>\n      <td>-0.105</td>\n      <td>296.28613</td>\n      <td>48.224670</td>\n      <td>15.714</td>\n    </tr>\n    <tr>\n      <th>...</th>\n      <td>...</td>\n      <td>...</td>\n      <td>...</td>\n      <td>...</td>\n      <td>...</td>\n      <td>...</td>\n      <td>...</td>\n      <td>...</td>\n      <td>...</td>\n      <td>...</td>\n      <td>...</td>\n      <td>...</td>\n      <td>...</td>\n      <td>...</td>\n      <td>...</td>\n      <td>...</td>\n      <td>...</td>\n      <td>...</td>\n      <td>...</td>\n      <td>...</td>\n      <td>...</td>\n    </tr>\n    <tr>\n      <th>9550</th>\n      <td>9551</td>\n      <td>8488381</td>\n      <td>K07888.01</td>\n      <td>NaN</td>\n      <td>CANDIDATE</td>\n      <td>CANDIDATE</td>\n      <td>0.532</td>\n      <td>0</td>\n      <td>0</td>\n      <td>0</td>\n      <td>...</td>\n      <td>-201.0</td>\n      <td>4.456</td>\n      <td>0.056</td>\n      <td>-0.224</td>\n      <td>1.011</td>\n      <td>0.329</td>\n      <td>-0.110</td>\n      <td>289.20331</td>\n      <td>44.505138</td>\n      <td>13.922</td>\n    </tr>\n    <tr>\n      <th>9551</th>\n      <td>9552</td>\n      <td>8489260</td>\n      <td>K07889.01</td>\n      <td>NaN</td>\n      <td>CANDIDATE</td>\n      <td>CANDIDATE</td>\n      <td>0.386</td>\n      <td>0</td>\n      <td>0</td>\n      <td>0</td>\n      <td>...</td>\n      <td>-183.0</td>\n      <td>4.529</td>\n      <td>0.036</td>\n      <td>-0.192</td>\n      <td>0.903</td>\n      <td>0.251</td>\n      <td>-0.084</td>\n      <td>289.57452</td>\n      <td>44.519939</td>\n      <td>15.991</td>\n    </tr>\n    <tr>\n      <th>9557</th>\n      <td>9558</td>\n      <td>11911561</td>\n      <td>K03875.01</td>\n      <td>NaN</td>\n      <td>CANDIDATE</td>\n      <td>CANDIDATE</td>\n      <td>1.000</td>\n      <td>0</td>\n      <td>0</td>\n      <td>0</td>\n      <td>...</td>\n      <td>-181.0</td>\n      <td>4.027</td>\n      <td>0.434</td>\n      <td>-0.186</td>\n      <td>1.514</td>\n      <td>0.426</td>\n      <td>-0.640</td>\n      <td>290.14914</td>\n      <td>50.239178</td>\n      <td>13.579</td>\n    </tr>\n    <tr>\n      <th>9558</th>\n      <td>9559</td>\n      <td>8765560</td>\n      <td>K03891.01</td>\n      <td>NaN</td>\n      <td>CANDIDATE</td>\n      <td>CANDIDATE</td>\n      <td>1.000</td>\n      <td>0</td>\n      <td>0</td>\n      <td>0</td>\n      <td>...</td>\n      <td>-159.0</td>\n      <td>3.597</td>\n      <td>0.968</td>\n      <td>-0.242</td>\n      <td>2.780</td>\n      <td>1.089</td>\n      <td>-2.022</td>\n      <td>296.15601</td>\n      <td>44.920090</td>\n      <td>13.731</td>\n    </tr>\n    <tr>\n      <th>9561</th>\n      <td>9562</td>\n      <td>10128825</td>\n      <td>K07986.01</td>\n      <td>NaN</td>\n      <td>CANDIDATE</td>\n      <td>CANDIDATE</td>\n      <td>0.497</td>\n      <td>0</td>\n      <td>0</td>\n      <td>0</td>\n      <td>...</td>\n      <td>-220.0</td>\n      <td>4.444</td>\n      <td>0.056</td>\n      <td>-0.224</td>\n      <td>1.031</td>\n      <td>0.341</td>\n      <td>-0.114</td>\n      <td>286.50937</td>\n      <td>47.163219</td>\n      <td>14.757</td>\n    </tr>\n  </tbody>\n</table>\n<p>4496 rows × 50 columns</p>\n</div>"
     },
     "metadata": {},
     "execution_count": 3
    }
   ],
   "source": [
    "# Filter for only rows under column 'koi_pidisposition' = 'CANDIDATE'.\n",
    "planets = planets[planets['koi_pdisposition'].str.contains('CANDIDATE')]\n",
    "planets"
   ]
  },
  {
   "cell_type": "code",
   "execution_count": 7,
   "metadata": {},
   "outputs": [
    {
     "output_type": "execute_result",
     "data": {
      "text/plain": [
       "      rowid     kepid kepoi_name    kepler_name koi_disposition  \\\n",
       "0         1  10797460  K00752.01   Kepler-227 b       CONFIRMED   \n",
       "1         2  10797460  K00752.02   Kepler-227 c       CONFIRMED   \n",
       "4         5  10854555  K00755.01   Kepler-664 b       CONFIRMED   \n",
       "5         6  10872983  K00756.01   Kepler-228 d       CONFIRMED   \n",
       "6         7  10872983  K00756.02   Kepler-228 c       CONFIRMED   \n",
       "...     ...       ...        ...            ...             ...   \n",
       "9305   9306   8801316  K02956.01  Kepler-1394 b       CONFIRMED   \n",
       "9309   9310   7347246  K03014.01  Kepler-1411 b       CONFIRMED   \n",
       "9353   9354   8895758  K03106.01  Kepler-1427 b       CONFIRMED   \n",
       "9479   9480   7503885  K03417.01  Kepler-1494 b       CONFIRMED   \n",
       "9540   9541   3645438  K04385.02  Kepler-1600 b       CONFIRMED   \n",
       "\n",
       "     koi_pdisposition  koi_score  koi_fpflag_nt  koi_fpflag_ss  koi_fpflag_co  \\\n",
       "0           CANDIDATE      1.000              0              0              0   \n",
       "1           CANDIDATE      0.969              0              0              0   \n",
       "4           CANDIDATE      1.000              0              0              0   \n",
       "5           CANDIDATE      1.000              0              0              0   \n",
       "6           CANDIDATE      1.000              0              0              0   \n",
       "...               ...        ...            ...            ...            ...   \n",
       "9305        CANDIDATE      1.000              0              0              0   \n",
       "9309        CANDIDATE      0.941              0              0              0   \n",
       "9353        CANDIDATE      0.877              0              0              0   \n",
       "9479        CANDIDATE      1.000              0              0              0   \n",
       "9540        CANDIDATE      0.911              0              0              0   \n",
       "\n",
       "      ...  koi_steff_err2  koi_slogg  koi_slogg_err1  koi_slogg_err2  \\\n",
       "0     ...           -81.0      4.467           0.064          -0.096   \n",
       "1     ...           -81.0      4.467           0.064          -0.096   \n",
       "4     ...          -211.0      4.438           0.070          -0.210   \n",
       "5     ...          -232.0      4.486           0.054          -0.229   \n",
       "6     ...          -232.0      4.486           0.054          -0.229   \n",
       "...   ...             ...        ...             ...             ...   \n",
       "9305  ...          -113.0      3.728           0.218          -0.073   \n",
       "9309  ...          -236.0      4.454           0.054          -0.216   \n",
       "9353  ...          -203.0      4.473           0.054          -0.216   \n",
       "9479  ...          -205.0      4.437           0.072          -0.203   \n",
       "9540  ...           -82.0      4.508           0.060          -0.040   \n",
       "\n",
       "      koi_srad  koi_srad_err1  koi_srad_err2         ra        dec  koi_kepmag  \n",
       "0        0.927          0.105         -0.061  291.93423  48.141651      15.347  \n",
       "1        0.927          0.105         -0.061  291.93423  48.141651      15.347  \n",
       "4        1.046          0.334         -0.133  288.75488  48.226200      15.509  \n",
       "5        0.972          0.315         -0.105  296.28613  48.224670      15.714  \n",
       "6        0.972          0.315         -0.105  296.28613  48.224670      15.714  \n",
       "...        ...            ...            ...        ...        ...         ...  \n",
       "9305     2.741          0.324         -0.757  283.45319  45.084141      11.801  \n",
       "9309     1.053          0.357         -0.119  286.36157  42.963921      15.831  \n",
       "9353     1.000          0.322         -0.107  295.34967  45.114552      15.415  \n",
       "9479     1.008          0.319         -0.137  282.65741  43.162521      15.214  \n",
       "9540     0.834          0.047         -0.052  291.39938  38.787750      15.825  \n",
       "\n",
       "[2248 rows x 50 columns]"
      ],
      "text/html": "<div>\n<style scoped>\n    .dataframe tbody tr th:only-of-type {\n        vertical-align: middle;\n    }\n\n    .dataframe tbody tr th {\n        vertical-align: top;\n    }\n\n    .dataframe thead th {\n        text-align: right;\n    }\n</style>\n<table border=\"1\" class=\"dataframe\">\n  <thead>\n    <tr style=\"text-align: right;\">\n      <th></th>\n      <th>rowid</th>\n      <th>kepid</th>\n      <th>kepoi_name</th>\n      <th>kepler_name</th>\n      <th>koi_disposition</th>\n      <th>koi_pdisposition</th>\n      <th>koi_score</th>\n      <th>koi_fpflag_nt</th>\n      <th>koi_fpflag_ss</th>\n      <th>koi_fpflag_co</th>\n      <th>...</th>\n      <th>koi_steff_err2</th>\n      <th>koi_slogg</th>\n      <th>koi_slogg_err1</th>\n      <th>koi_slogg_err2</th>\n      <th>koi_srad</th>\n      <th>koi_srad_err1</th>\n      <th>koi_srad_err2</th>\n      <th>ra</th>\n      <th>dec</th>\n      <th>koi_kepmag</th>\n    </tr>\n  </thead>\n  <tbody>\n    <tr>\n      <th>0</th>\n      <td>1</td>\n      <td>10797460</td>\n      <td>K00752.01</td>\n      <td>Kepler-227 b</td>\n      <td>CONFIRMED</td>\n      <td>CANDIDATE</td>\n      <td>1.000</td>\n      <td>0</td>\n      <td>0</td>\n      <td>0</td>\n      <td>...</td>\n      <td>-81.0</td>\n      <td>4.467</td>\n      <td>0.064</td>\n      <td>-0.096</td>\n      <td>0.927</td>\n      <td>0.105</td>\n      <td>-0.061</td>\n      <td>291.93423</td>\n      <td>48.141651</td>\n      <td>15.347</td>\n    </tr>\n    <tr>\n      <th>1</th>\n      <td>2</td>\n      <td>10797460</td>\n      <td>K00752.02</td>\n      <td>Kepler-227 c</td>\n      <td>CONFIRMED</td>\n      <td>CANDIDATE</td>\n      <td>0.969</td>\n      <td>0</td>\n      <td>0</td>\n      <td>0</td>\n      <td>...</td>\n      <td>-81.0</td>\n      <td>4.467</td>\n      <td>0.064</td>\n      <td>-0.096</td>\n      <td>0.927</td>\n      <td>0.105</td>\n      <td>-0.061</td>\n      <td>291.93423</td>\n      <td>48.141651</td>\n      <td>15.347</td>\n    </tr>\n    <tr>\n      <th>4</th>\n      <td>5</td>\n      <td>10854555</td>\n      <td>K00755.01</td>\n      <td>Kepler-664 b</td>\n      <td>CONFIRMED</td>\n      <td>CANDIDATE</td>\n      <td>1.000</td>\n      <td>0</td>\n      <td>0</td>\n      <td>0</td>\n      <td>...</td>\n      <td>-211.0</td>\n      <td>4.438</td>\n      <td>0.070</td>\n      <td>-0.210</td>\n      <td>1.046</td>\n      <td>0.334</td>\n      <td>-0.133</td>\n      <td>288.75488</td>\n      <td>48.226200</td>\n      <td>15.509</td>\n    </tr>\n    <tr>\n      <th>5</th>\n      <td>6</td>\n      <td>10872983</td>\n      <td>K00756.01</td>\n      <td>Kepler-228 d</td>\n      <td>CONFIRMED</td>\n      <td>CANDIDATE</td>\n      <td>1.000</td>\n      <td>0</td>\n      <td>0</td>\n      <td>0</td>\n      <td>...</td>\n      <td>-232.0</td>\n      <td>4.486</td>\n      <td>0.054</td>\n      <td>-0.229</td>\n      <td>0.972</td>\n      <td>0.315</td>\n      <td>-0.105</td>\n      <td>296.28613</td>\n      <td>48.224670</td>\n      <td>15.714</td>\n    </tr>\n    <tr>\n      <th>6</th>\n      <td>7</td>\n      <td>10872983</td>\n      <td>K00756.02</td>\n      <td>Kepler-228 c</td>\n      <td>CONFIRMED</td>\n      <td>CANDIDATE</td>\n      <td>1.000</td>\n      <td>0</td>\n      <td>0</td>\n      <td>0</td>\n      <td>...</td>\n      <td>-232.0</td>\n      <td>4.486</td>\n      <td>0.054</td>\n      <td>-0.229</td>\n      <td>0.972</td>\n      <td>0.315</td>\n      <td>-0.105</td>\n      <td>296.28613</td>\n      <td>48.224670</td>\n      <td>15.714</td>\n    </tr>\n    <tr>\n      <th>...</th>\n      <td>...</td>\n      <td>...</td>\n      <td>...</td>\n      <td>...</td>\n      <td>...</td>\n      <td>...</td>\n      <td>...</td>\n      <td>...</td>\n      <td>...</td>\n      <td>...</td>\n      <td>...</td>\n      <td>...</td>\n      <td>...</td>\n      <td>...</td>\n      <td>...</td>\n      <td>...</td>\n      <td>...</td>\n      <td>...</td>\n      <td>...</td>\n      <td>...</td>\n      <td>...</td>\n    </tr>\n    <tr>\n      <th>9305</th>\n      <td>9306</td>\n      <td>8801316</td>\n      <td>K02956.01</td>\n      <td>Kepler-1394 b</td>\n      <td>CONFIRMED</td>\n      <td>CANDIDATE</td>\n      <td>1.000</td>\n      <td>0</td>\n      <td>0</td>\n      <td>0</td>\n      <td>...</td>\n      <td>-113.0</td>\n      <td>3.728</td>\n      <td>0.218</td>\n      <td>-0.073</td>\n      <td>2.741</td>\n      <td>0.324</td>\n      <td>-0.757</td>\n      <td>283.45319</td>\n      <td>45.084141</td>\n      <td>11.801</td>\n    </tr>\n    <tr>\n      <th>9309</th>\n      <td>9310</td>\n      <td>7347246</td>\n      <td>K03014.01</td>\n      <td>Kepler-1411 b</td>\n      <td>CONFIRMED</td>\n      <td>CANDIDATE</td>\n      <td>0.941</td>\n      <td>0</td>\n      <td>0</td>\n      <td>0</td>\n      <td>...</td>\n      <td>-236.0</td>\n      <td>4.454</td>\n      <td>0.054</td>\n      <td>-0.216</td>\n      <td>1.053</td>\n      <td>0.357</td>\n      <td>-0.119</td>\n      <td>286.36157</td>\n      <td>42.963921</td>\n      <td>15.831</td>\n    </tr>\n    <tr>\n      <th>9353</th>\n      <td>9354</td>\n      <td>8895758</td>\n      <td>K03106.01</td>\n      <td>Kepler-1427 b</td>\n      <td>CONFIRMED</td>\n      <td>CANDIDATE</td>\n      <td>0.877</td>\n      <td>0</td>\n      <td>0</td>\n      <td>0</td>\n      <td>...</td>\n      <td>-203.0</td>\n      <td>4.473</td>\n      <td>0.054</td>\n      <td>-0.216</td>\n      <td>1.000</td>\n      <td>0.322</td>\n      <td>-0.107</td>\n      <td>295.34967</td>\n      <td>45.114552</td>\n      <td>15.415</td>\n    </tr>\n    <tr>\n      <th>9479</th>\n      <td>9480</td>\n      <td>7503885</td>\n      <td>K03417.01</td>\n      <td>Kepler-1494 b</td>\n      <td>CONFIRMED</td>\n      <td>CANDIDATE</td>\n      <td>1.000</td>\n      <td>0</td>\n      <td>0</td>\n      <td>0</td>\n      <td>...</td>\n      <td>-205.0</td>\n      <td>4.437</td>\n      <td>0.072</td>\n      <td>-0.203</td>\n      <td>1.008</td>\n      <td>0.319</td>\n      <td>-0.137</td>\n      <td>282.65741</td>\n      <td>43.162521</td>\n      <td>15.214</td>\n    </tr>\n    <tr>\n      <th>9540</th>\n      <td>9541</td>\n      <td>3645438</td>\n      <td>K04385.02</td>\n      <td>Kepler-1600 b</td>\n      <td>CONFIRMED</td>\n      <td>CANDIDATE</td>\n      <td>0.911</td>\n      <td>0</td>\n      <td>0</td>\n      <td>0</td>\n      <td>...</td>\n      <td>-82.0</td>\n      <td>4.508</td>\n      <td>0.060</td>\n      <td>-0.040</td>\n      <td>0.834</td>\n      <td>0.047</td>\n      <td>-0.052</td>\n      <td>291.39938</td>\n      <td>38.787750</td>\n      <td>15.825</td>\n    </tr>\n  </tbody>\n</table>\n<p>2248 rows × 50 columns</p>\n</div>"
     },
     "metadata": {},
     "execution_count": 7
    }
   ],
   "source": [
    "# Drop all column 'kepler_name' NaN \n",
    "# planets = planets['kepler_name'].dropna()\n",
    "planets = planets.dropna(subset=['kepler_name'])\n",
    "planets\n"
   ]
  },
  {
   "cell_type": "code",
   "execution_count": null,
   "metadata": {},
   "outputs": [],
   "source": []
  }
 ]
}