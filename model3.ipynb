{
 "cells": [
  {
   "source": [
    "# SVC Model using GridSearch"
   ],
   "cell_type": "markdown",
   "metadata": {}
  },
  {
   "cell_type": "code",
   "execution_count": 1,
   "metadata": {},
   "outputs": [],
   "source": [
    "# Retrieve variables from other jupyter notebook\n",
    "%store -r X_train_scaled\n",
    "%store -r X_test_scaled\n",
    "%store -r y_train\n",
    "%store -r y_test"
   ]
  },
  {
   "cell_type": "code",
   "execution_count": 2,
   "metadata": {},
   "outputs": [
    {
     "output_type": "stream",
     "name": "stdout",
     "text": [
      "Requirement already up-to-date: sklearn in /Users/annabelcheong/opt/anaconda3/lib/python3.8/site-packages (0.0)\n",
      "Requirement already satisfied, skipping upgrade: scikit-learn in /Users/annabelcheong/opt/anaconda3/lib/python3.8/site-packages (from sklearn) (0.23.2)\n",
      "Requirement already satisfied, skipping upgrade: threadpoolctl>=2.0.0 in /Users/annabelcheong/opt/anaconda3/lib/python3.8/site-packages (from scikit-learn->sklearn) (2.1.0)\n",
      "Requirement already satisfied, skipping upgrade: scipy>=0.19.1 in /Users/annabelcheong/opt/anaconda3/lib/python3.8/site-packages (from scikit-learn->sklearn) (1.5.2)\n",
      "Requirement already satisfied, skipping upgrade: numpy>=1.13.3 in /Users/annabelcheong/opt/anaconda3/lib/python3.8/site-packages (from scikit-learn->sklearn) (1.19.2)\n",
      "Requirement already satisfied, skipping upgrade: joblib>=0.11 in /Users/annabelcheong/opt/anaconda3/lib/python3.8/site-packages (from scikit-learn->sklearn) (0.17.0)\n"
     ]
    }
   ],
   "source": [
    "# Update sklearn to prevent version mismatches\n",
    "!pip install sklearn --upgrade"
   ]
  },
  {
   "cell_type": "code",
   "execution_count": 3,
   "metadata": {},
   "outputs": [
    {
     "output_type": "stream",
     "name": "stdout",
     "text": [
      "Requirement already satisfied: joblib in /Users/annabelcheong/opt/anaconda3/lib/python3.8/site-packages (0.17.0)\n"
     ]
    }
   ],
   "source": [
    "# install joblib. This will be used to save your model. \n",
    "# Restart your kernel after installing \n",
    "!pip install joblib"
   ]
  },
  {
   "cell_type": "code",
   "execution_count": 4,
   "metadata": {},
   "outputs": [],
   "source": [
    "import pandas as pd"
   ]
  },
  {
   "cell_type": "code",
   "execution_count": 5,
   "metadata": {},
   "outputs": [
    {
     "output_type": "execute_result",
     "data": {
      "text/plain": [
       "SVC(kernel='linear')"
      ]
     },
     "metadata": {},
     "execution_count": 5
    }
   ],
   "source": [
    "# Create the SVC Model\n",
    "from sklearn.svm import SVC \n",
    "model = SVC(kernel='linear')\n",
    "model.fit(X_train_scaled, y_train)"
   ]
  },
  {
   "cell_type": "code",
   "execution_count": 6,
   "metadata": {},
   "outputs": [
    {
     "output_type": "stream",
     "name": "stdout",
     "text": [
      "0.851993133702079\n0.8489702517162472\n"
     ]
    }
   ],
   "source": [
    "print(model.score(X_train_scaled, y_train))\n",
    "print(model.score(X_test_scaled, y_test))"
   ]
  },
  {
   "cell_type": "code",
   "execution_count": 7,
   "metadata": {},
   "outputs": [],
   "source": [
    "# Create the GridSearchCV model\n",
    "# Create the GridSearch estimator along with a parameter object containing the values to adjust\n",
    "from sklearn.model_selection import GridSearchCV\n",
    "param_grid = {'C': [1, 5, 10, 50],\n",
    "              'gamma': [0.0001, 0.0005, 0.001, 0.005]}\n",
    "grid = GridSearchCV(model, param_grid, verbose=3)"
   ]
  },
  {
   "cell_type": "code",
   "execution_count": 8,
   "metadata": {},
   "outputs": [
    {
     "output_type": "stream",
     "name": "stdout",
     "text": [
      "Fitting 5 folds for each of 16 candidates, totalling 80 fits\n",
      "[CV 1/5] END ..............................C=1, gamma=0.0001; total time=   0.2s\n",
      "[CV 2/5] END ..............................C=1, gamma=0.0001; total time=   0.2s\n",
      "[CV 3/5] END ..............................C=1, gamma=0.0001; total time=   0.2s\n",
      "[CV 4/5] END ..............................C=1, gamma=0.0001; total time=   0.2s\n",
      "[CV 5/5] END ..............................C=1, gamma=0.0001; total time=   0.2s\n",
      "[CV 1/5] END ..............................C=1, gamma=0.0005; total time=   0.2s\n",
      "[CV 2/5] END ..............................C=1, gamma=0.0005; total time=   0.2s\n",
      "[CV 3/5] END ..............................C=1, gamma=0.0005; total time=   0.2s\n",
      "[CV 4/5] END ..............................C=1, gamma=0.0005; total time=   0.2s\n",
      "[CV 5/5] END ..............................C=1, gamma=0.0005; total time=   0.2s\n",
      "[CV 1/5] END ...............................C=1, gamma=0.001; total time=   0.2s\n",
      "[CV 2/5] END ...............................C=1, gamma=0.001; total time=   0.2s\n",
      "[CV 3/5] END ...............................C=1, gamma=0.001; total time=   0.2s\n",
      "[CV 4/5] END ...............................C=1, gamma=0.001; total time=   0.2s\n",
      "[CV 5/5] END ...............................C=1, gamma=0.001; total time=   0.2s\n",
      "[CV 1/5] END ...............................C=1, gamma=0.005; total time=   0.2s\n",
      "[CV 2/5] END ...............................C=1, gamma=0.005; total time=   0.2s\n",
      "[CV 3/5] END ...............................C=1, gamma=0.005; total time=   0.3s\n",
      "[CV 4/5] END ...............................C=1, gamma=0.005; total time=   0.2s\n",
      "[CV 5/5] END ...............................C=1, gamma=0.005; total time=   0.3s\n",
      "[CV 1/5] END ..............................C=5, gamma=0.0001; total time=   0.3s\n",
      "[CV 2/5] END ..............................C=5, gamma=0.0001; total time=   0.2s\n",
      "[CV 3/5] END ..............................C=5, gamma=0.0001; total time=   0.3s\n",
      "[CV 4/5] END ..............................C=5, gamma=0.0001; total time=   0.2s\n",
      "[CV 5/5] END ..............................C=5, gamma=0.0001; total time=   0.2s\n",
      "[CV 1/5] END ..............................C=5, gamma=0.0005; total time=   0.3s\n",
      "[CV 2/5] END ..............................C=5, gamma=0.0005; total time=   0.2s\n",
      "[CV 3/5] END ..............................C=5, gamma=0.0005; total time=   0.3s\n",
      "[CV 4/5] END ..............................C=5, gamma=0.0005; total time=   0.2s\n",
      "[CV 5/5] END ..............................C=5, gamma=0.0005; total time=   0.2s\n",
      "[CV 1/5] END ...............................C=5, gamma=0.001; total time=   0.3s\n",
      "[CV 2/5] END ...............................C=5, gamma=0.001; total time=   0.3s\n",
      "[CV 3/5] END ...............................C=5, gamma=0.001; total time=   0.3s\n",
      "[CV 4/5] END ...............................C=5, gamma=0.001; total time=   0.2s\n",
      "[CV 5/5] END ...............................C=5, gamma=0.001; total time=   0.3s\n",
      "[CV 1/5] END ...............................C=5, gamma=0.005; total time=   0.3s\n",
      "[CV 2/5] END ...............................C=5, gamma=0.005; total time=   0.3s\n",
      "[CV 3/5] END ...............................C=5, gamma=0.005; total time=   0.3s\n",
      "[CV 4/5] END ...............................C=5, gamma=0.005; total time=   0.2s\n",
      "[CV 5/5] END ...............................C=5, gamma=0.005; total time=   0.2s\n",
      "[CV 1/5] END .............................C=10, gamma=0.0001; total time=   0.3s\n",
      "[CV 2/5] END .............................C=10, gamma=0.0001; total time=   0.3s\n",
      "[CV 3/5] END .............................C=10, gamma=0.0001; total time=   0.3s\n",
      "[CV 4/5] END .............................C=10, gamma=0.0001; total time=   0.3s\n",
      "[CV 5/5] END .............................C=10, gamma=0.0001; total time=   0.3s\n",
      "[CV 1/5] END .............................C=10, gamma=0.0005; total time=   0.3s\n",
      "[CV 2/5] END .............................C=10, gamma=0.0005; total time=   0.3s\n",
      "[CV 3/5] END .............................C=10, gamma=0.0005; total time=   0.3s\n",
      "[CV 4/5] END .............................C=10, gamma=0.0005; total time=   0.2s\n",
      "[CV 5/5] END .............................C=10, gamma=0.0005; total time=   0.3s\n",
      "[CV 1/5] END ..............................C=10, gamma=0.001; total time=   0.3s\n",
      "[CV 2/5] END ..............................C=10, gamma=0.001; total time=   0.3s\n",
      "[CV 3/5] END ..............................C=10, gamma=0.001; total time=   0.3s\n",
      "[CV 4/5] END ..............................C=10, gamma=0.001; total time=   0.2s\n",
      "[CV 5/5] END ..............................C=10, gamma=0.001; total time=   0.3s\n",
      "[CV 1/5] END ..............................C=10, gamma=0.005; total time=   0.3s\n",
      "[CV 2/5] END ..............................C=10, gamma=0.005; total time=   0.3s\n",
      "[CV 3/5] END ..............................C=10, gamma=0.005; total time=   0.3s\n",
      "[CV 4/5] END ..............................C=10, gamma=0.005; total time=   0.2s\n",
      "[CV 5/5] END ..............................C=10, gamma=0.005; total time=   0.3s\n",
      "[CV 1/5] END .............................C=50, gamma=0.0001; total time=   0.3s\n",
      "[CV 2/5] END .............................C=50, gamma=0.0001; total time=   0.3s\n",
      "[CV 3/5] END .............................C=50, gamma=0.0001; total time=   0.4s\n",
      "[CV 4/5] END .............................C=50, gamma=0.0001; total time=   0.3s\n",
      "[CV 5/5] END .............................C=50, gamma=0.0001; total time=   0.3s\n",
      "[CV 1/5] END .............................C=50, gamma=0.0005; total time=   0.3s\n",
      "[CV 2/5] END .............................C=50, gamma=0.0005; total time=   0.3s\n",
      "[CV 3/5] END .............................C=50, gamma=0.0005; total time=   0.3s\n",
      "[CV 4/5] END .............................C=50, gamma=0.0005; total time=   0.3s\n",
      "[CV 5/5] END .............................C=50, gamma=0.0005; total time=   0.4s\n",
      "[CV 1/5] END ..............................C=50, gamma=0.001; total time=   0.3s\n",
      "[CV 2/5] END ..............................C=50, gamma=0.001; total time=   0.3s\n",
      "[CV 3/5] END ..............................C=50, gamma=0.001; total time=   0.4s\n",
      "[CV 4/5] END ..............................C=50, gamma=0.001; total time=   0.3s\n",
      "[CV 5/5] END ..............................C=50, gamma=0.001; total time=   0.4s\n",
      "[CV 1/5] END ..............................C=50, gamma=0.005; total time=   0.4s\n",
      "[CV 2/5] END ..............................C=50, gamma=0.005; total time=   0.3s\n",
      "[CV 3/5] END ..............................C=50, gamma=0.005; total time=   0.4s\n",
      "[CV 4/5] END ..............................C=50, gamma=0.005; total time=   0.3s\n",
      "[CV 5/5] END ..............................C=50, gamma=0.005; total time=   0.4s\n"
     ]
    },
    {
     "output_type": "execute_result",
     "data": {
      "text/plain": [
       "GridSearchCV(estimator=SVC(kernel='linear'),\n",
       "             param_grid={'C': [1, 5, 10, 50],\n",
       "                         'gamma': [0.0001, 0.0005, 0.001, 0.005]},\n",
       "             verbose=3)"
      ]
     },
     "metadata": {},
     "execution_count": 8
    }
   ],
   "source": [
    "# Train the model with GridSearch\n",
    "grid.fit(X_train_scaled, y_train)"
   ]
  },
  {
   "cell_type": "code",
   "execution_count": 9,
   "metadata": {},
   "outputs": [
    {
     "output_type": "stream",
     "name": "stdout",
     "text": [
      "{'C': 50, 'gamma': 0.0001}\n0.8846038393526369\n"
     ]
    }
   ],
   "source": [
    "# List the best parameters and the best score\n",
    "print(grid.best_params_)\n",
    "print(grid.best_score_)"
   ]
  },
  {
   "cell_type": "code",
   "execution_count": 10,
   "metadata": {},
   "outputs": [
    {
     "output_type": "execute_result",
     "data": {
      "text/plain": [
       "array([2, 0, 2, ..., 1, 0, 1])"
      ]
     },
     "metadata": {},
     "execution_count": 10
    }
   ],
   "source": [
    "# Make predictions with the hypertuned model\n",
    "predictions = grid.predict(X_test_scaled)\n",
    "predictions"
   ]
  },
  {
   "cell_type": "code",
   "execution_count": 11,
   "metadata": {},
   "outputs": [
    {
     "output_type": "stream",
     "name": "stdout",
     "text": [
      "              precision    recall  f1-score   support\n\n           0       0.81      0.68      0.74       411\n           1       0.77      0.85      0.81       484\n           2       0.98      1.00      0.99       853\n\n    accuracy                           0.88      1748\n   macro avg       0.85      0.84      0.84      1748\nweighted avg       0.88      0.88      0.88      1748\n\n"
     ]
    }
   ],
   "source": [
    "# Calculate classification report\n",
    "from sklearn.metrics import classification_report\n",
    "print(classification_report(y_test, predictions,\n",
    "                            target_names=[\"0\", \"1\",\"2\"]))"
   ]
  },
  {
   "cell_type": "markdown",
   "metadata": {},
   "source": [
    "# Save the Model"
   ]
  },
  {
   "cell_type": "code",
   "execution_count": 14,
   "metadata": {},
   "outputs": [
    {
     "output_type": "execute_result",
     "data": {
      "text/plain": [
       "['model3.sav']"
      ]
     },
     "metadata": {},
     "execution_count": 14
    }
   ],
   "source": [
    "# Save the svc model \n",
    "import joblib\n",
    "filename = 'model3.sav'\n",
    "\n",
    "# Print file name\n",
    "joblib.dump(model, filename)"
   ]
  },
  {
   "cell_type": "code",
   "execution_count": 13,
   "metadata": {},
   "outputs": [
    {
     "output_type": "stream",
     "name": "stdout",
     "text": [
      "0.8489702517162472\n"
     ]
    }
   ],
   "source": [
    "# Test loading model back in to ensure it saved properly\n",
    "loaded_model = joblib.load(filename)\n",
    "result = loaded_model.score(X_test_scaled, y_test)\n",
    "print(result)"
   ]
  },
  {
   "cell_type": "code",
   "execution_count": null,
   "metadata": {},
   "outputs": [],
   "source": []
  }
 ],
 "metadata": {
  "kernel_info": {
   "name": "dev"
  },
  "kernelspec": {
   "name": "python3",
   "display_name": "Python 3.6.13 64-bit ('PythonAdv': conda)",
   "metadata": {
    "interpreter": {
     "hash": "d6d1acd81953b03bcf8e5d296cc3c28990ea354090956f78670ae51fff7474ba"
    }
   }
  },
  "language_info": {
   "codemirror_mode": {
    "name": "ipython",
    "version": 3
   },
   "file_extension": ".py",
   "mimetype": "text/x-python",
   "name": "python",
   "nbconvert_exporter": "python",
   "pygments_lexer": "ipython3",
   "version": "3.6.13"
  },
  "nteract": {
   "version": "0.12.3"
  }
 },
 "nbformat": 4,
 "nbformat_minor": 2
}